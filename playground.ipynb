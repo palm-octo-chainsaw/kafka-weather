{
 "cells": [
  {
   "cell_type": "code",
   "execution_count": 17,
   "metadata": {},
   "outputs": [
    {
     "name": "stdout",
     "output_type": "stream",
     "text": [
      "The dotenv extension is already loaded. To reload it, use:\n",
      "  %reload_ext dotenv\n"
     ]
    }
   ],
   "source": [
    "%load_ext dotenv\n",
    "%dotenv\n",
    "\n",
    "import json\n",
    "import socket\n",
    "import pandas as pd\n",
    "import numpy as np\n",
    "from quixstreams import Application\n",
    "from confluent_kafka import Producer\n",
    "\n",
    "from etl.config import CurrentWeather, DatabaseEngine"
   ]
  },
  {
   "cell_type": "code",
   "execution_count": 10,
   "metadata": {},
   "outputs": [],
   "source": [
    "database = DatabaseEngine().get_engine()"
   ]
  },
  {
   "cell_type": "code",
   "execution_count": 11,
   "metadata": {},
   "outputs": [],
   "source": [
    "weather_handler = CurrentWeather()\n",
    "metadata = weather_handler.get_current_weather()"
   ]
  },
  {
   "cell_type": "code",
   "execution_count": 12,
   "metadata": {},
   "outputs": [
    {
     "data": {
      "text/plain": [
       "{'latitude': 42.6875,\n",
       " 'longitude': 23.3125,\n",
       " 'generationtime_ms': 0.07295608520507812,\n",
       " 'utc_offset_seconds': 7200,\n",
       " 'timezone': 'Europe/Sofia',\n",
       " 'timezone_abbreviation': 'EET',\n",
       " 'elevation': 548.0,\n",
       " 'time': '2024-11-13T05:15',\n",
       " 'interval': 900,\n",
       " 'temperature_2m': 4.1,\n",
       " 'relative_humidity_2m': 88,\n",
       " 'apparent_temperature': 1.8,\n",
       " 'is_day': 0,\n",
       " 'precipitation': 0.0,\n",
       " 'rain': 0.0,\n",
       " 'showers': 0.0,\n",
       " 'snowfall': 0.0,\n",
       " 'weather_code': 3,\n",
       " 'cloud_cover': 100,\n",
       " 'pressure_msl': 1027.9,\n",
       " 'surface_pressure': 961.2,\n",
       " 'wind_speed_10m': 3.1,\n",
       " 'wind_direction_10m': 54,\n",
       " 'wind_gusts_10m': 8.3}"
      ]
     },
     "execution_count": 12,
     "metadata": {},
     "output_type": "execute_result"
    }
   ],
   "source": [
    "current = metadata.pop('current')\n",
    "units = metadata.pop('current_units')\n",
    "metadata.update(current)\n",
    "metadata"
   ]
  },
  {
   "cell_type": "code",
   "execution_count": 13,
   "metadata": {},
   "outputs": [],
   "source": [
    "units_df = pd.DataFrame([units])\n",
    "units_df.to_sql('units', database, if_exists='replace', index=False)\n",
    "database.dispose()"
   ]
  },
  {
   "cell_type": "code",
   "execution_count": 21,
   "metadata": {},
   "outputs": [
    {
     "name": "stderr",
     "output_type": "stream",
     "text": [
      "[2024-11-13 05:51:33,103] [INFO] [quixstreams] : Topics required for this application: \"current-weather\"\n",
      "[2024-11-13 05:51:33,210] [INFO] [quixstreams] : Validating Kafka topics exist and are configured correctly...\n",
      "[2024-11-13 05:51:33,253] [INFO] [quixstreams] : Kafka topics validation complete\n",
      "%4|1731469893.254|TERMINATE|Currency-Multiplier.local#producer-8| [thrd:app]: Producer terminating with 1 message (561 bytes) still in queue or transit: use flush() to wait for outstanding message delivery\n",
      "[2024-11-13 05:51:33,261] [DEBUG] [quixstreams] : Flushing kafka producer\n",
      "[2024-11-13 05:51:33,270] [DEBUG] [quixstreams] : Kafka producer flushed\n"
     ]
    }
   ],
   "source": [
    "app = Application(\n",
    "    broker_address='127.0.0.1:9092',\n",
    "    loglevel='DEBUG'\n",
    ")\n",
    "\n",
    "temperature_topic = app.topic('current-weather', value_deserializer='json')\n",
    "\n",
    "with app.get_producer() as producer:\n",
    "    producer.produce(\n",
    "        topic='current-weather',\n",
    "        key='Sofia',\n",
    "        value=json.dumps(metadata)\n",
    "    )"
   ]
  }
 ],
 "metadata": {
  "kernelspec": {
   "display_name": "kafka-weather-ScJSf7pl",
   "language": "python",
   "name": "python3"
  },
  "language_info": {
   "codemirror_mode": {
    "name": "ipython",
    "version": 3
   },
   "file_extension": ".py",
   "mimetype": "text/x-python",
   "name": "python",
   "nbconvert_exporter": "python",
   "pygments_lexer": "ipython3",
   "version": "3.12.3"
  }
 },
 "nbformat": 4,
 "nbformat_minor": 2
}
